{
 "cells": [
  {
   "cell_type": "code",
   "execution_count": 1,
   "metadata": {},
   "outputs": [],
   "source": [
    "%matplotlib inline\n",
    "import numpy as np\n",
    "import matplotlib\n",
    "import matplotlib.pyplot as plt\n",
    "import scipy\n",
    "from scipy import stats\n",
    "\n",
    "plt.rcParams[\"figure.figsize\"] = (20,15)"
   ]
  },
  {
   "cell_type": "code",
   "execution_count": 2,
   "metadata": {
    "scrolled": true
   },
   "outputs": [
    {
     "data": {
      "text/plain": [
       "0.5"
      ]
     },
     "execution_count": 2,
     "metadata": {},
     "output_type": "execute_result"
    }
   ],
   "source": [
    "#For the first part of lab, we'll be using the CDF\n",
    "#(cumulative distribution function) on a Gaussian\n",
    "#distribution to find the values associated with various\n",
    "#sigma values. The CDF will take the integral from the \n",
    "#leftside of the distribution.\n",
    "\n",
    "stats.norm.cdf(0, loc = 0, scale = 1)\n",
    "#This comes out to 0.5. The first variable\n",
    "#of the cdf function is the sigma value, so in this\n",
    "#case it is 0 (where the mean lies). loc determines\n",
    "#the mean, and scale determines the std. dev."
   ]
  },
  {
   "cell_type": "code",
   "execution_count": 3,
   "metadata": {},
   "outputs": [],
   "source": [
    "#The 0.5 tells us that 50% of the distribution is within the\n",
    "#leftside of the distribution to the value 0. Which makes\n",
    "#sense since a Gaussian distribution is symmetrical, and the\n",
    "#mean in this case is 0."
   ]
  },
  {
   "cell_type": "code",
   "execution_count": 4,
   "metadata": {},
   "outputs": [
    {
     "data": {
      "text/plain": [
       "0.8413447460685429"
      ]
     },
     "execution_count": 4,
     "metadata": {},
     "output_type": "execute_result"
    }
   ],
   "source": [
    "#1 Std. Dev (1 sigma)\n",
    "x = stats.norm.cdf(1, loc = 0, scale = 1)\n",
    "x\n",
    "#This comes out to 84.1%. The cdf takes the integral\n",
    "#of the distribution from the leftside. In other words, 1 std.\n",
    "#diviation includes 34.1% of the distribution from the mean."
   ]
  },
  {
   "cell_type": "code",
   "execution_count": 5,
   "metadata": {},
   "outputs": [
    {
     "data": {
      "text/plain": [
       "0.9772498680518208"
      ]
     },
     "execution_count": 5,
     "metadata": {},
     "output_type": "execute_result"
    }
   ],
   "source": [
    "#2 std. dev. (2 sigma)\n",
    "y = stats.norm.cdf(2, loc = 0, scale = 1)\n",
    "y\n",
    "#Comes out to 97.7%"
   ]
  },
  {
   "cell_type": "code",
   "execution_count": 6,
   "metadata": {},
   "outputs": [
    {
     "data": {
      "text/plain": [
       "0.9986501019683699"
      ]
     },
     "execution_count": 6,
     "metadata": {},
     "output_type": "execute_result"
    }
   ],
   "source": [
    "#3 std. dev. (3 sigma)\n",
    "z = stats.norm.cdf(3, loc = 0, scale = 1)\n",
    "z\n",
    "#This comes out to 99.8%"
   ]
  },
  {
   "cell_type": "code",
   "execution_count": 7,
   "metadata": {},
   "outputs": [
    {
     "data": {
      "text/plain": [
       "0.0"
      ]
     },
     "execution_count": 7,
     "metadata": {},
     "output_type": "execute_result"
    }
   ],
   "source": [
    "#Now we will be doing the inverse, determining the sigma value\n",
    "#when given a probability. This will be done by evaluating the\n",
    "#probability values using the PPF (percent point function),\n",
    "#which is the inverse of the CDF.\n",
    "\n",
    "#p=0.5\n",
    "stats.norm.ppf(0.5, loc = 0, scale = 1)\n",
    "#This comes out to 0. Which means a sigma of 0, which makes\n",
    "#sense as the distribution is split evenly at 0."
   ]
  },
  {
   "cell_type": "code",
   "execution_count": 8,
   "metadata": {},
   "outputs": [
    {
     "data": {
      "text/plain": [
       "1.0"
      ]
     },
     "execution_count": 8,
     "metadata": {},
     "output_type": "execute_result"
    }
   ],
   "source": [
    "#p=0.841\n",
    "stats.norm.ppf(x, loc = 0, scale = 1)\n",
    "#This comes out to 1 sigma."
   ]
  },
  {
   "cell_type": "code",
   "execution_count": 9,
   "metadata": {},
   "outputs": [
    {
     "data": {
      "text/plain": [
       "2.0000000000000004"
      ]
     },
     "execution_count": 9,
     "metadata": {},
     "output_type": "execute_result"
    }
   ],
   "source": [
    "#p=0.977\n",
    "stats.norm.ppf(y, loc = 0, scale = 1)\n",
    "#This comes out to 2 sigma."
   ]
  },
  {
   "cell_type": "code",
   "execution_count": 10,
   "metadata": {},
   "outputs": [
    {
     "data": {
      "text/plain": [
       "2.9999999999999982"
      ]
     },
     "execution_count": 10,
     "metadata": {},
     "output_type": "execute_result"
    }
   ],
   "source": [
    "#p=0.998\n",
    "stats.norm.ppf(z, loc = 0, scale = 1)\n",
    "#This comes out to 3 sigma."
   ]
  },
  {
   "cell_type": "code",
   "execution_count": 11,
   "metadata": {},
   "outputs": [],
   "source": [
    "#Now we'll be doing similar operations as above, however this\n",
    "#time on a Rayleigh distribution."
   ]
  },
  {
   "cell_type": "code",
   "execution_count": 12,
   "metadata": {},
   "outputs": [],
   "source": [
    "#This will be our randomly generated data set on a Rayleigh\n",
    "#distribution.\n",
    "d = stats.rayleigh.rvs(loc = 0, scale = 0.01, size = \n",
    "                      100000)"
   ]
  },
  {
   "cell_type": "code",
   "execution_count": 13,
   "metadata": {},
   "outputs": [
    {
     "data": {
      "image/png": "[encoded data removed]",
      "text/plain": [
       "<Figure size 432x288 with 1 Axes>"
      ]
     },
     "metadata": {
      "needs_background": "light"
     },
     "output_type": "display_data"
    }
   ],
   "source": [
    "#The randomly generated data set will be plotted with an\n",
    "#analytic PDF.\n",
    "fig, ax = plt.subplots(1, 1)\n",
    "ax.hist(d, 50, density = True)\n",
    "plt.tick_params(labelsize = 15)\n",
    "plt.xlim([-0.01, 0.05])\n",
    "x = np.linspace(-0.01, 0.05, 1000)\n",
    "ax.plot(x, stats.rayleigh.pdf(x, loc = 0, scale = 0.01),\n",
    "    linewidth = 3, alpha = 0.7)\n",
    "plt.show()"
   ]
  },
  {
   "cell_type": "code",
   "execution_count": 14,
   "metadata": {},
   "outputs": [],
   "source": [
    "#Instead of being a symmetrical distribution, we see that a\n",
    "#Rayleigh distribution is skewed to the right. Lets present a\n",
    "#hypothetical problem dealing with the above Rayleigh\n",
    "#distribution.\n",
    "\n",
    "\n",
    "#What's the probability that the background produces \n",
    "#a signal from the background that is greater than a value\n",
    "#of 0.025?"
   ]
  },
  {
   "cell_type": "code",
   "execution_count": 15,
   "metadata": {},
   "outputs": [
    {
     "data": {
      "text/plain": [
       "0.04393693362340745"
      ]
     },
     "execution_count": 15,
     "metadata": {},
     "output_type": "execute_result"
    }
   ],
   "source": [
    "prob = stats.rayleigh.cdf(0.025, loc = 0, scale = 0.01)\n",
    "\n",
    "#The CDF is taken from the left, so we will subtract this\n",
    "#value from 1.\n",
    "fixedProb = 1 - prob\n",
    "fixedProb #This is the probability"
   ]
  },
  {
   "cell_type": "code",
   "execution_count": 16,
   "metadata": {},
   "outputs": [
    {
     "data": {
      "text/plain": [
       "0.0029977124309520852"
      ]
     },
     "execution_count": 16,
     "metadata": {},
     "output_type": "execute_result"
    }
   ],
   "source": [
    "sigma = stats.rayleigh.ppf(fixedProb, loc = 0,\n",
    "                              scale = 0.01)\n",
    "sigma #This is the associated sigma value of the probability"
   ]
  },
  {
   "cell_type": "code",
   "execution_count": 17,
   "metadata": {},
   "outputs": [],
   "source": [
    "#Non-continuous distributions: now we will be working with\n",
    "#non-continuous distributions, specifically with binomial\n",
    "#distributions.\n",
    "\n",
    "#This will randomly generate the data set when n=0 and p=0.5,\n",
    "#where 'n' is the number of attempts and 'p' is the\n",
    "#probability of success.\n",
    "b = stats.binom.rvs(10, 0.5, loc = 0, size \n",
    "                       = 1000)"
   ]
  },
  {
   "cell_type": "code",
   "execution_count": 18,
   "metadata": {},
   "outputs": [
    {
     "data": {
      "image/png": "[encoded data removed]",
      "text/plain": [
       "<Figure size 432x288 with 1 Axes>"
      ]
     },
     "metadata": {
      "needs_background": "light"
     },
     "output_type": "display_data"
    }
   ],
   "source": [
    "#Plot of the randomly generated data set\n",
    "fig, graph = plt.subplots(1, 1)\n",
    "graph.hist(b, 50, density = True)\n",
    "plt.tick_params(labelsize = 15)\n",
    "plt.xlim([0, 10])\n",
    "plt.show()"
   ]
  },
  {
   "cell_type": "code",
   "execution_count": 19,
   "metadata": {},
   "outputs": [],
   "source": [
    "#When the probability of success is 50%, the\n",
    "#distribution looks close to symmetrical. In\n",
    "#this case, the mode is 5 and the \"tails\" on\n",
    "#either side of 5 look even."
   ]
  },
  {
   "cell_type": "code",
   "execution_count": 20,
   "metadata": {
    "scrolled": false
   },
   "outputs": [
    {
     "data": {
      "image/png": "[encoded data removed]",
      "text/plain": [
       "<Figure size 432x288 with 1 Axes>"
      ]
     },
     "metadata": {
      "needs_background": "light"
     },
     "output_type": "display_data"
    }
   ],
   "source": [
    "#Now lets increase to p = 0.7\n",
    "c = stats.binom.rvs(10, 0.7, loc = 0, size \n",
    "                       = 1000)\n",
    "\n",
    "fig, graph = plt.subplots(1, 1)\n",
    "graph.hist(c, 50, density = True)\n",
    "plt.tick_params(labelsize = 15)\n",
    "plt.xlim([2, 11])\n",
    "plt.show()"
   ]
  },
  {
   "cell_type": "code",
   "execution_count": 21,
   "metadata": {},
   "outputs": [],
   "source": [
    "#When the probability is above 50%, the\n",
    "#distribution becomes skewed to the left and\n",
    "#the mode becomes 7. "
   ]
  },
  {
   "cell_type": "code",
   "execution_count": 42,
   "metadata": {},
   "outputs": [
    {
     "data": {
      "text/plain": [
       "0.10291934520000004"
      ]
     },
     "execution_count": 42,
     "metadata": {},
     "output_type": "execute_result"
    }
   ],
   "source": [
    "#For this case, lets have the number of attempts represent\n",
    "#the number of black and red ants we observe. For each ant,\n",
    "#there is a 70% chance of the ant being red. What would be\n",
    "#the probability that the number of red ants be 5?\n",
    "\n",
    "#We will use the CDF to solve this. The CDF integrates from\n",
    "#the left, so we will take the CDF up to 5 and up to 4, then\n",
    "#take the difference.\n",
    "\n",
    "upLim = stats.binom.cdf(5, 10, 0.7)\n",
    "lowLim = stats.binom.cdf(4, 10, 0.7)\n",
    "upLim - lowLim"
   ]
  },
  {
   "cell_type": "code",
   "execution_count": 23,
   "metadata": {},
   "outputs": [],
   "source": [
    "#There is a 10.3% chance of observing 5 red ants out of a\n",
    "#sample of 10 ants."
   ]
  },
  {
   "cell_type": "code",
   "execution_count": 24,
   "metadata": {},
   "outputs": [
    {
     "data": {
      "image/png": "[encoded data removed]",
      "text/plain": [
       "<Figure size 432x288 with 1 Axes>"
      ]
     },
     "metadata": {
      "needs_background": "light"
     },
     "output_type": "display_data"
    }
   ],
   "source": [
    "#Lets see how changing parameters will affect the binomial\n",
    "#distribution.\n",
    "\n",
    "#Decrease p to 0.3\n",
    "d = stats.binom.rvs(10, 0.3, loc = 0, size \n",
    "                       = 1000)\n",
    "fig, graph = plt.subplots(1, 1)\n",
    "graph.hist(d, 50, density = True)\n",
    "plt.tick_params(labelsize = 15)\n",
    "plt.xlim([-1, 9])\n",
    "plt.show()"
   ]
  },
  {
   "cell_type": "code",
   "execution_count": 25,
   "metadata": {},
   "outputs": [],
   "source": [
    "#When the probability is less than 50%,\n",
    "#the distribution becomes skewed to the right.\n",
    "#And the mode becomes 3."
   ]
  },
  {
   "cell_type": "code",
   "execution_count": 26,
   "metadata": {},
   "outputs": [
    {
     "data": {
      "image/png": "[encoded data removed]",
      "text/plain": [
       "<Figure size 432x288 with 1 Axes>"
      ]
     },
     "metadata": {
      "needs_background": "light"
     },
     "output_type": "display_data"
    }
   ],
   "source": [
    "#Now we'll change the number of attempts per trial\n",
    "#This first one we'll increase the number of attempts\n",
    "#to 20\n",
    "e = stats.binom.rvs(20, 0.5, loc = 0, size \n",
    "                       = 1000)\n",
    "\n",
    "fig, graph = plt.subplots(1, 1)\n",
    "graph.hist(e, 50, density = True)\n",
    "plt.tick_params(labelsize = 10)\n",
    "plt.xlim([2, 18])\n",
    "plt.show()"
   ]
  },
  {
   "cell_type": "code",
   "execution_count": 27,
   "metadata": {},
   "outputs": [],
   "source": [
    "#When the number of attempts per trial is increased,\n",
    "#while keeping the probability at 50%, the distribution\n",
    "#looks somewhat even. However, depending on the set of data,\n",
    "#the mode can vary, where the peak of the graph can span\n",
    "#roughly between 9 and 11. Also, the distribution becomes\n",
    "#wider and spans a greater range of values."
   ]
  },
  {
   "cell_type": "code",
   "execution_count": 28,
   "metadata": {},
   "outputs": [
    {
     "data": {
      "image/png": "[encoded data removed]",
      "text/plain": [
       "<Figure size 432x288 with 1 Axes>"
      ]
     },
     "metadata": {
      "needs_background": "light"
     },
     "output_type": "display_data"
    }
   ],
   "source": [
    "#We will decrease the number of attempts per trial to 5.\n",
    "f = stats.binom.rvs(5, 0.5, loc = 0, size \n",
    "                       = 1000)\n",
    "fig, graph = plt.subplots(1, 1)\n",
    "graph.hist(f, 50, density = True)\n",
    "plt.tick_params(labelsize = 10)\n",
    "plt.xlim([-1, 6])\n",
    "plt.show()"
   ]
  },
  {
   "cell_type": "code",
   "execution_count": 29,
   "metadata": {},
   "outputs": [],
   "source": [
    "#When the number of attempts is decreased while keeping\n",
    "#the probability at 50%, the distribution still looks \n",
    "#symmetrical. And the mode is 2 and/or 3. The range of\n",
    "#values has decreased to 5."
   ]
  },
  {
   "cell_type": "code",
   "execution_count": 30,
   "metadata": {},
   "outputs": [],
   "source": [
    "#Binomial distributions are discrete, meaning that the data\n",
    "#being presented is non-continuous, where each measurement\n",
    "#is an integer and not a floating point. This makes the \n",
    "#probability of occurance of each value discrete as well,\n",
    "#which can be seen by the bionomial distribution plots above.\n",
    "#None of the values between the integers have a probability\n",
    "#of occurence, only the integers do.\n",
    "\n",
    "#Binomial distributions should be incorporated into\n",
    "#experiments that deal with countable measurements, such as,\n",
    "#the number of meteors seen within an hour, the number of\n",
    "#trees within an area, and the number of particles passing\n",
    "#through an object."
   ]
  },
  {
   "cell_type": "code",
   "execution_count": 31,
   "metadata": {},
   "outputs": [
    {
     "data": {
      "text/plain": [
       "2.5"
      ]
     },
     "execution_count": 31,
     "metadata": {},
     "output_type": "execute_result"
    }
   ],
   "source": [
    "#Although the distribution is discrete, the parameters of the\n",
    "#distribution are not. For example, the mean of a binomial\n",
    "#distribution with n=0 and p=0.5 is:\n",
    "\n",
    "stats.binom.mean(5, 0.5, loc = 0)"
   ]
  },
  {
   "cell_type": "code",
   "execution_count": 32,
   "metadata": {},
   "outputs": [
    {
     "data": {
      "text/plain": [
       "2.0"
      ]
     },
     "execution_count": 32,
     "metadata": {},
     "output_type": "execute_result"
    }
   ],
   "source": [
    "#The mean does not change throughout the distribution, as the\n",
    "#measurements and the amount of measurements do not change;\n",
    "#each distribution has a distinct mean. Other parameters that\n",
    "#are non-discrete are the median, variance and standard\n",
    "#deviation which are shown below.\n",
    "\n",
    "stats.binom.median(5, 0.5, loc = 0)"
   ]
  },
  {
   "cell_type": "code",
   "execution_count": 33,
   "metadata": {},
   "outputs": [
    {
     "data": {
      "text/plain": [
       "1.25"
      ]
     },
     "execution_count": 33,
     "metadata": {},
     "output_type": "execute_result"
    }
   ],
   "source": [
    "stats.binom.var(5, 0.5, loc = 0)"
   ]
  },
  {
   "cell_type": "code",
   "execution_count": 34,
   "metadata": {},
   "outputs": [
    {
     "data": {
      "text/plain": [
       "1.118033988749895"
      ]
     },
     "execution_count": 34,
     "metadata": {},
     "output_type": "execute_result"
    }
   ],
   "source": [
    "stats.binom.std(5, 0.5, loc = 0)"
   ]
  }
 ],
 "metadata": {
  "kernelspec": {
   "display_name": "Python 3",
   "language": "python",
   "name": "python3"
  },
  "language_info": {
   "codemirror_mode": {
    "name": "ipython",
    "version": 3
   },
   "file_extension": ".py",
   "mimetype": "text/x-python",
   "name": "python",
   "nbconvert_exporter": "python",
   "pygments_lexer": "ipython3",
   "version": "3.7.4"
  }
 },
 "nbformat": 4,
 "nbformat_minor": 2
}
